{
  "nbformat": 4,
  "nbformat_minor": 0,
  "metadata": {
    "colab": {
      "provenance": []
    },
    "kernelspec": {
      "name": "python3",
      "display_name": "Python 3"
    },
    "language_info": {
      "name": "python"
    }
  },
  "cells": [
    {
      "cell_type": "code",
      "execution_count": null,
      "metadata": {
        "id": "8yUhygJxVls2"
      },
      "outputs": [],
      "source": [
        "import cv2\n",
        "import numpy as np"
      ]
    },
    {
      "cell_type": "code",
      "source": [
        "bright=cv2.imread('smarties.png')\n",
        "brightHSV=cv2.cvtColor(b,cv2.COLOR_BGR2HSV)\n",
        "brightYCB=cv2.cvtColor(b,cv2.COLOR_BGR2YCrCb)\n",
        "brightLAB=cv2.cvtColor(b,cv2.COLOR_BGR2LAB)"
      ],
      "metadata": {
        "id": "XnjV0BQjV0OL"
      },
      "execution_count": null,
      "outputs": []
    },
    {
      "cell_type": "code",
      "source": [
        "bgr = [40, 158, 16]\n",
        "thresh = 40"
      ],
      "metadata": {
        "id": "jU77-9BqV3fu"
      },
      "execution_count": null,
      "outputs": []
    },
    {
      "cell_type": "code",
      "source": [
        "minBGR = np.array([bgr[0] - thresh, bgr[1] - thresh, bgr[2] - thresh])\n",
        "maxBGR = np.array([bgr[0] + thresh, bgr[1] + thresh, bgr[2] + thresh])\n",
        "\n",
        "maskBGR = cv2.inRange(bright,minBGR,maxBGR)\n",
        "resultBGR = cv2.bitwise_and(bright, bright, mask = maskBGR)"
      ],
      "metadata": {
        "id": "5_DqWygwV7U6"
      },
      "execution_count": null,
      "outputs": []
    },
    {
      "cell_type": "code",
      "source": [
        "#convert 1D array to 3D, then convert it to HSV and take the first element\n",
        "# this will be same as shown in the above figure [65, 229, 158]\n",
        "hsv = cv2.cvtColor( np.uint8([[bgr]] ), cv2.COLOR_BGR2HSV)[0][0]\n",
        "\n",
        "minHSV = np.array([hsv[0] - thresh, hsv[1] - thresh, hsv[2] - thresh])\n",
        "maxHSV = np.array([hsv[0] + thresh, hsv[1] + thresh, hsv[2] + thresh])\n",
        "\n",
        "maskHSV = cv2.inRange(brightHSV, minHSV, maxHSV)\n",
        "resultHSV = cv2.bitwise_and(brightHSV, brightHSV, mask = maskHSV)"
      ],
      "metadata": {
        "id": "fFqQowFmWAVz"
      },
      "execution_count": null,
      "outputs": []
    },
    {
      "cell_type": "code",
      "source": [
        "#convert 1D array to 3D, then convert it to YCrCb and take the first element\n",
        "ycb = cv2.cvtColor( np.uint8([[bgr]] ), cv2.COLOR_BGR2YCrCb)[0][0]\n",
        "\n",
        "minYCB = np.array([ycb[0] - thresh, ycb[1] - thresh, ycb[2] - thresh])\n",
        "maxYCB = np.array([ycb[0] + thresh, ycb[1] + thresh, ycb[2] + thresh])\n",
        "\n",
        "maskYCB = cv2.inRange(brightYCB, minYCB, maxYCB)\n",
        "resultYCB = cv2.bitwise_and(brightYCB, brightYCB, mask = maskYCB)\n",
        ""
      ],
      "metadata": {
        "id": "GSm6PewNWETN"
      },
      "execution_count": null,
      "outputs": []
    },
    {
      "cell_type": "code",
      "source": [
        "#convert 1D array to 3D, then convert it to LAB and take the first element\n",
        "lab = cv2.cvtColor( np.uint8([[bgr]] ), cv2.COLOR_BGR2LAB)[0][0]\n",
        ""
      ],
      "metadata": {
        "id": "QatHmrc-WHuY"
      },
      "execution_count": null,
      "outputs": []
    },
    {
      "cell_type": "code",
      "source": [
        "minLAB = np.array([lab[0] - thresh, lab[1] - thresh, lab[2] - thresh])\n",
        "maxLAB = np.array([lab[0] + thresh, lab[1] + thresh, lab[2] + thresh])\n",
        "\n",
        "maskLAB = cv2.inRange(brightLAB, minLAB, maxLAB)\n",
        "resultLAB = cv2.bitwise_and(brightLAB, brightLAB, mask = maskLAB)\n",
        ""
      ],
      "metadata": {
        "id": "Luem8lb_WLXQ"
      },
      "execution_count": null,
      "outputs": []
    },
    {
      "cell_type": "code",
      "source": [
        "cv2.imshow(\"Result BGR\", resultBGR)\n",
        "cv2.imshow(\"Result HSV\", resultHSV)\n",
        "cv2.imshow(\"Result YCB\", resultYCB)\n",
        "cv2.imshow(\"Output LAB\", resultLAB)"
      ],
      "metadata": {
        "id": "xGKWf6hcWOlk"
      },
      "execution_count": null,
      "outputs": []
    }
  ]
}