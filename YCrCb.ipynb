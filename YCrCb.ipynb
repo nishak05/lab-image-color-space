{
  "nbformat": 4,
  "nbformat_minor": 0,
  "metadata": {
    "colab": {
      "provenance": []
    },
    "kernelspec": {
      "name": "python3",
      "display_name": "Python 3"
    },
    "language_info": {
      "name": "python"
    }
  },
  "cells": [
    {
      "cell_type": "code",
      "execution_count": null,
      "metadata": {
        "id": "a51aYQVYUorl"
      },
      "outputs": [],
      "source": [
        "import cv2"
      ]
    },
    {
      "cell_type": "code",
      "source": [
        "b=cv2.imread('smarties.png')\n",
        "d=cv2.imread('stuff.jpg')"
      ],
      "metadata": {
        "id": "5NQeWBCPUpow"
      },
      "execution_count": null,
      "outputs": []
    },
    {
      "cell_type": "code",
      "source": [
        "blab=cv2.cvtColor(b,cv2.COLOR_BGR2YCrCb)\n",
        "dlab=cv2.cvtColor(d,cv2.COLOR_BGR2YCrCb)"
      ],
      "metadata": {
        "id": "ijgJ29n_Uv45"
      },
      "execution_count": null,
      "outputs": []
    },
    {
      "cell_type": "code",
      "source": [
        "cv2.imshow('bright image',b)\n",
        "cv2.imshow('lab image1', blab)\n",
        "cv2.imshow('dark image',d)\n",
        "cv2.imshow('lab image',dlab)\n"
      ],
      "metadata": {
        "id": "i-7DyN4XUwgk"
      },
      "execution_count": null,
      "outputs": []
    },
    {
      "cell_type": "code",
      "source": [
        "cv2.waitKey(0)\n",
        "\n",
        "cv2.destroyAllWindows()"
      ],
      "metadata": {
        "id": "GKqVAY5ZU0D-"
      },
      "execution_count": null,
      "outputs": []
    }
  ]
}