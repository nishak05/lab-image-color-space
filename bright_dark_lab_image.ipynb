{
  "nbformat": 4,
  "nbformat_minor": 0,
  "metadata": {
    "colab": {
      "provenance": []
    },
    "kernelspec": {
      "name": "python3",
      "display_name": "Python 3"
    },
    "language_info": {
      "name": "python"
    }
  },
  "cells": [
    {
      "cell_type": "code",
      "execution_count": null,
      "metadata": {
        "id": "-6mPgaW5UG_D"
      },
      "outputs": [],
      "source": [
        "import cv2"
      ]
    },
    {
      "cell_type": "code",
      "source": [
        "b=cv2.imread('smarties.png')\n",
        "d=cv2.imread('stuff.jpg')"
      ],
      "metadata": {
        "id": "qKeY0AuLUHxD"
      },
      "execution_count": null,
      "outputs": []
    },
    {
      "cell_type": "code",
      "source": [
        "blab=cv2.cvtColor(b,cv2.COLOR_BGR2LAB)\n",
        "dlab=cv2.cvtColor(d,cv2.COLOR_BGR2Lab)\n"
      ],
      "metadata": {
        "id": "dIsi2h0sUMtx"
      },
      "execution_count": null,
      "outputs": []
    },
    {
      "cell_type": "code",
      "source": [
        "cv2.imshow('bright image',b)\n",
        "cv2.imshow('lab image1', blab)\n",
        "cv2.imshow('dark image',d)\n",
        "cv2.imshow('lab image',dlab)\n"
      ],
      "metadata": {
        "id": "mMp8yD2jUPD5"
      },
      "execution_count": null,
      "outputs": []
    },
    {
      "cell_type": "code",
      "source": [
        "cv2.waitKey(0)\n",
        "\n",
        "cv2.destroyAllWindows()"
      ],
      "metadata": {
        "id": "b8gkmkruURnj"
      },
      "execution_count": null,
      "outputs": []
    }
  ]
}