{
  "nbformat": 4,
  "nbformat_minor": 0,
  "metadata": {
    "colab": {
      "provenance": []
    },
    "kernelspec": {
      "name": "python3",
      "display_name": "Python 3"
    },
    "language_info": {
      "name": "python"
    }
  },
  "cells": [
    {
      "cell_type": "code",
      "execution_count": null,
      "metadata": {
        "id": "9N1qQDfGVEXk"
      },
      "outputs": [],
      "source": [
        "import cv2"
      ]
    },
    {
      "cell_type": "code",
      "source": [
        "b=cv2.imread('smarties.png')\n",
        "d=cv2.imread('stuff.jpg')"
      ],
      "metadata": {
        "id": "DmwIQNWmVFUr"
      },
      "execution_count": null,
      "outputs": []
    },
    {
      "cell_type": "code",
      "source": [
        "blab=cv2.cvtColor(b,cv2.COLOR_BGR2HSV)\n",
        "dlab=cv2.cvtColor(d,cv2.COLOR_BGR2HSV)"
      ],
      "metadata": {
        "id": "4pFQHO8jVHum"
      },
      "execution_count": null,
      "outputs": []
    },
    {
      "cell_type": "code",
      "source": [
        "cv2.imshow('bright image',b)\n",
        "cv2.imshow('lab image1', blab)\n",
        "cv2.imshow('dark image',d)\n",
        "cv2.imshow('lab image',dlab)"
      ],
      "metadata": {
        "id": "IxD9wjZrVKXR"
      },
      "execution_count": null,
      "outputs": []
    },
    {
      "cell_type": "code",
      "source": [
        "cv2.waitKey(0)\n",
        "\n",
        "cv2.destroyAllWindows()"
      ],
      "metadata": {
        "id": "j1bHNyvxVNBo"
      },
      "execution_count": null,
      "outputs": []
    }
  ]
}